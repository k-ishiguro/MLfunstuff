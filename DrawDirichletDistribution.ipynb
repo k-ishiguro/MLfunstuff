{
 "metadata": {
  "name": "",
  "signature": "sha256:66bf1af702242cbae6db534723255912849462112dadb492fc6108489751e2cb"
 },
 "nbformat": 3,
 "nbformat_minor": 0,
 "worksheets": [
  {
   "cells": [
    {
     "cell_type": "code",
     "collapsed": false,
     "input": [
      "# Draw the PDF of Dirichlet distributions. \n",
      "# To view with K>3, we simply take several samples and see the bar graphs \n",
      "# Written Katsuhiko Ishiguro <k.ishiguro.jp@ieee.org>\n",
      "# June 26, 2016\n",
      "\n",
      "import numpy as np\n",
      "import matplotlib.pyplot as plt"
     ],
     "language": "python",
     "metadata": {},
     "outputs": [],
     "prompt_number": 14
    },
    {
     "cell_type": "code",
     "collapsed": false,
     "input": [
      "def sampleAndDrawBars(alpha, N, outstr):\n",
      "    # take N random samples from Dirichlet(alpha)\n",
      "    samples = np.random.dirichlet(alpha, N)\n",
      "    \n",
      "    K = len(alpha)\n",
      "    tick = np.arange(K)\n",
      "    tick_str = []\n",
      "    for k in tick:\n",
      "        tick_str.append(str(k+1))\n",
      "    print tick_str\n",
      "    \n",
      "    f, axarr = plt.subplots(1, N, sharey=True)\n",
      "    \n",
      "    # draw N samples in a row\n",
      "    width = 0.5\n",
      "    for n in range(N):\n",
      "        x = samples[n, :]\n",
      "        axarr[n].bar(tick, x, width)\n",
      "        #axarr[n].xticks(tick+width/2, tick_str)\n",
      "        \n",
      "    # save the figure\n",
      "    savefig(outstr + \".eps\")\n",
      "    savefig(outstr + \".png\")"
     ],
     "language": "python",
     "metadata": {},
     "outputs": [],
     "prompt_number": 44
    },
    {
     "cell_type": "code",
     "collapsed": false,
     "input": [
      "sampleAndDrawBars([0.1, 0.1, 0.1,0.1], 4, \"alpha0.1_K4\")"
     ],
     "language": "python",
     "metadata": {},
     "outputs": [
      {
       "output_type": "stream",
       "stream": "stdout",
       "text": [
        "['1', '2', '3', '4']\n"
       ]
      },
      {
       "metadata": {},
       "output_type": "display_data",
       "png": "[encoded data removed]",
       "text": [
        "<matplotlib.figure.Figure at 0xaedd780>"
       ]
      }
     ],
     "prompt_number": 45
    },
    {
     "cell_type": "code",
     "collapsed": false,
     "input": [
      "sampleAndDrawBars([0.5, 0.5, 0.5, 0.5], 4, \"alpha0.5_K4\")"
     ],
     "language": "python",
     "metadata": {},
     "outputs": [
      {
       "output_type": "stream",
       "stream": "stdout",
       "text": [
        "['1', '2', '3', '4']\n"
       ]
      },
      {
       "metadata": {},
       "output_type": "display_data",
       "png": "[encoded data removed]",
       "text": [
        "<matplotlib.figure.Figure at 0xbb09438>"
       ]
      }
     ],
     "prompt_number": 46
    },
    {
     "cell_type": "code",
     "collapsed": false,
     "input": [
      "sampleAndDrawBars([1.0, 1.0, 1.0, 1.0], 4, \"alpha1.0_K4\")"
     ],
     "language": "python",
     "metadata": {},
     "outputs": [
      {
       "output_type": "stream",
       "stream": "stdout",
       "text": [
        "['1', '2', '3', '4']\n"
       ]
      },
      {
       "metadata": {},
       "output_type": "display_data",
       "png": "[encoded data removed]",
       "text": [
        "<matplotlib.figure.Figure at 0xb68c8d0>"
       ]
      }
     ],
     "prompt_number": 47
    },
    {
     "cell_type": "code",
     "collapsed": false,
     "input": [],
     "language": "python",
     "metadata": {},
     "outputs": []
    }
   ],
   "metadata": {}
  }
 ]
}